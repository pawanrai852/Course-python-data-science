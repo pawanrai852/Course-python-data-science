{
 "cells": [
  {
   "cell_type": "code",
   "execution_count": 2,
   "metadata": {},
   "outputs": [
    {
     "name": "stdout",
     "output_type": "stream",
     "text": [
      "Hey Number is greater\n"
     ]
    }
   ],
   "source": [
    "if 8 > 7 and 8 > 6:\n",
    "    print('Hey Number is greater')\n",
    "else:\n",
    "    print('number is greater')"
   ]
  },
  {
   "cell_type": "code",
   "execution_count": null,
   "metadata": {},
   "outputs": [],
   "source": []
  }
 ],
 "metadata": {
  "kernelspec": {
   "display_name": "Python 3.10.6 64-bit",
   "language": "python",
   "name": "python3"
  },
  "language_info": {
   "codemirror_mode": {
    "name": "ipython",
    "version": 3
   },
   "file_extension": ".py",
   "mimetype": "text/x-python",
   "name": "python",
   "nbconvert_exporter": "python",
   "pygments_lexer": "ipython3",
   "version": "3.10.6"
  },
  "orig_nbformat": 4,
  "vscode": {
   "interpreter": {
    "hash": "07a3a8f5869697231048743d9484abc1d16360c7426d6a01eb94e47325de5813"
   }
  }
 },
 "nbformat": 4,
 "nbformat_minor": 2
}
